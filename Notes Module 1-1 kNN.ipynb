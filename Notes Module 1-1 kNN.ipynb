{
 "cells": [
  {
   "cell_type": "markdown",
   "metadata": {},
   "source": [
    "# Classify Images of CIFAR-10 dataset"
   ]
  },
  {
   "cell_type": "code",
   "execution_count": 1,
   "metadata": {
    "collapsed": true
   },
   "outputs": [],
   "source": [
    "import pandas as pd"
   ]
  },
  {
   "cell_type": "code",
   "execution_count": 2,
   "metadata": {
    "collapsed": true
   },
   "outputs": [],
   "source": [
    "# unload images\n",
    "def unpickle(file):\n",
    "    import cPickle\n",
    "    fo = open(file, 'rb')\n",
    "    dict = cPickle.load(fo)\n",
    "    fo.close()\n",
    "    return dict"
   ]
  },
  {
   "cell_type": "code",
   "execution_count": 3,
   "metadata": {
    "collapsed": false
   },
   "outputs": [],
   "source": [
    "batch_1 = unpickle(\"cifar-10-batches-py/data_batch_1\")\n",
    "batch_2 = unpickle(\"cifar-10-batches-py/data_batch_2\")\n",
    "batch_3 = unpickle(\"cifar-10-batches-py/data_batch_3\")\n",
    "batch_4 = unpickle(\"cifar-10-batches-py/data_batch_4\")\n",
    "batch_5 = unpickle(\"cifar-10-batches-py/data_batch_5\")\n"
   ]
  },
  {
   "cell_type": "code",
   "execution_count": 4,
   "metadata": {
    "collapsed": false
   },
   "outputs": [
    {
     "data": {
      "text/html": [
       "<div>\n",
       "<table border=\"1\" class=\"dataframe\">\n",
       "  <thead>\n",
       "    <tr style=\"text-align: right;\">\n",
       "      <th></th>\n",
       "      <th>0</th>\n",
       "      <th>1</th>\n",
       "      <th>2</th>\n",
       "      <th>3</th>\n",
       "      <th>4</th>\n",
       "      <th>5</th>\n",
       "      <th>6</th>\n",
       "      <th>7</th>\n",
       "      <th>8</th>\n",
       "      <th>9</th>\n",
       "      <th>...</th>\n",
       "      <th>3063</th>\n",
       "      <th>3064</th>\n",
       "      <th>3065</th>\n",
       "      <th>3066</th>\n",
       "      <th>3067</th>\n",
       "      <th>3068</th>\n",
       "      <th>3069</th>\n",
       "      <th>3070</th>\n",
       "      <th>3071</th>\n",
       "      <th>label</th>\n",
       "    </tr>\n",
       "  </thead>\n",
       "  <tbody>\n",
       "    <tr>\n",
       "      <th>0</th>\n",
       "      <td>59</td>\n",
       "      <td>43</td>\n",
       "      <td>50</td>\n",
       "      <td>68</td>\n",
       "      <td>98</td>\n",
       "      <td>119</td>\n",
       "      <td>139</td>\n",
       "      <td>145</td>\n",
       "      <td>149</td>\n",
       "      <td>149</td>\n",
       "      <td>...</td>\n",
       "      <td>58</td>\n",
       "      <td>65</td>\n",
       "      <td>59</td>\n",
       "      <td>46</td>\n",
       "      <td>57</td>\n",
       "      <td>104</td>\n",
       "      <td>140</td>\n",
       "      <td>84</td>\n",
       "      <td>72</td>\n",
       "      <td>6</td>\n",
       "    </tr>\n",
       "    <tr>\n",
       "      <th>1</th>\n",
       "      <td>154</td>\n",
       "      <td>126</td>\n",
       "      <td>105</td>\n",
       "      <td>102</td>\n",
       "      <td>125</td>\n",
       "      <td>155</td>\n",
       "      <td>172</td>\n",
       "      <td>180</td>\n",
       "      <td>142</td>\n",
       "      <td>111</td>\n",
       "      <td>...</td>\n",
       "      <td>42</td>\n",
       "      <td>67</td>\n",
       "      <td>101</td>\n",
       "      <td>122</td>\n",
       "      <td>133</td>\n",
       "      <td>136</td>\n",
       "      <td>139</td>\n",
       "      <td>142</td>\n",
       "      <td>144</td>\n",
       "      <td>9</td>\n",
       "    </tr>\n",
       "    <tr>\n",
       "      <th>2</th>\n",
       "      <td>255</td>\n",
       "      <td>253</td>\n",
       "      <td>253</td>\n",
       "      <td>253</td>\n",
       "      <td>253</td>\n",
       "      <td>253</td>\n",
       "      <td>253</td>\n",
       "      <td>253</td>\n",
       "      <td>253</td>\n",
       "      <td>253</td>\n",
       "      <td>...</td>\n",
       "      <td>83</td>\n",
       "      <td>80</td>\n",
       "      <td>69</td>\n",
       "      <td>66</td>\n",
       "      <td>72</td>\n",
       "      <td>79</td>\n",
       "      <td>83</td>\n",
       "      <td>83</td>\n",
       "      <td>84</td>\n",
       "      <td>9</td>\n",
       "    </tr>\n",
       "    <tr>\n",
       "      <th>3</th>\n",
       "      <td>28</td>\n",
       "      <td>37</td>\n",
       "      <td>38</td>\n",
       "      <td>42</td>\n",
       "      <td>44</td>\n",
       "      <td>40</td>\n",
       "      <td>40</td>\n",
       "      <td>24</td>\n",
       "      <td>32</td>\n",
       "      <td>43</td>\n",
       "      <td>...</td>\n",
       "      <td>39</td>\n",
       "      <td>59</td>\n",
       "      <td>42</td>\n",
       "      <td>44</td>\n",
       "      <td>48</td>\n",
       "      <td>38</td>\n",
       "      <td>28</td>\n",
       "      <td>37</td>\n",
       "      <td>46</td>\n",
       "      <td>4</td>\n",
       "    </tr>\n",
       "    <tr>\n",
       "      <th>4</th>\n",
       "      <td>170</td>\n",
       "      <td>168</td>\n",
       "      <td>177</td>\n",
       "      <td>183</td>\n",
       "      <td>181</td>\n",
       "      <td>177</td>\n",
       "      <td>181</td>\n",
       "      <td>184</td>\n",
       "      <td>189</td>\n",
       "      <td>189</td>\n",
       "      <td>...</td>\n",
       "      <td>88</td>\n",
       "      <td>85</td>\n",
       "      <td>82</td>\n",
       "      <td>83</td>\n",
       "      <td>79</td>\n",
       "      <td>78</td>\n",
       "      <td>82</td>\n",
       "      <td>78</td>\n",
       "      <td>80</td>\n",
       "      <td>1</td>\n",
       "    </tr>\n",
       "  </tbody>\n",
       "</table>\n",
       "<p>5 rows × 3073 columns</p>\n",
       "</div>"
      ],
      "text/plain": [
       "     0    1    2    3    4    5    6    7    8    9  ...    3063  3064  3065  \\\n",
       "0   59   43   50   68   98  119  139  145  149  149  ...      58    65    59   \n",
       "1  154  126  105  102  125  155  172  180  142  111  ...      42    67   101   \n",
       "2  255  253  253  253  253  253  253  253  253  253  ...      83    80    69   \n",
       "3   28   37   38   42   44   40   40   24   32   43  ...      39    59    42   \n",
       "4  170  168  177  183  181  177  181  184  189  189  ...      88    85    82   \n",
       "\n",
       "   3066  3067  3068  3069  3070  3071  label  \n",
       "0    46    57   104   140    84    72      6  \n",
       "1   122   133   136   139   142   144      9  \n",
       "2    66    72    79    83    83    84      9  \n",
       "3    44    48    38    28    37    46      4  \n",
       "4    83    79    78    82    78    80      1  \n",
       "\n",
       "[5 rows x 3073 columns]"
      ]
     },
     "execution_count": 4,
     "metadata": {},
     "output_type": "execute_result"
    }
   ],
   "source": [
    "df1 = pd.DataFrame(batch_1['data'])\n",
    "df1['label'] = pd.DataFrame(batch_1['labels'])\n",
    "\n",
    "df2 = pd.DataFrame(batch_2['data'])\n",
    "df2['label'] = pd.DataFrame(batch_2['labels'])\n",
    "\n",
    "df3 = pd.DataFrame(batch_3['data'])\n",
    "df3['label'] = pd.DataFrame(batch_3['labels'])\n",
    "\n",
    "df4 = pd.DataFrame(batch_4['data'])\n",
    "df4['label'] = pd.DataFrame(batch_4['labels'])\n",
    "\n",
    "df5 = pd.DataFrame(batch_5['data'])\n",
    "df5['label'] = pd.DataFrame(batch_5['labels'])\n",
    "\n",
    "df = pd.concat([df1, df2, df3, df4, df5])\n",
    "df.head()"
   ]
  },
  {
   "cell_type": "markdown",
   "metadata": {},
   "source": [
    "__data__ -- a 10000x3072 numpy array of uint8s. Each row of the array stores a 32x32 colour image. The first 1024 entries contain the red channel values, the next 1024 the green, and the final 1024 the blue. The image is stored in row-major order, so that the first 32 entries of the array are the red channel values of the first row of the image.\n",
    "\n",
    "__labels__ -- a list of 10000 numbers in the range 0-9. The number at index i indicates the label of the ith image in the array data.\n",
    "\n",
    "The dataset contains another file, called batches.meta. It too contains a Python dictionary object. It has the following entries:\n",
    "label_names -- a 10-element list which gives meaningful names to the numeric labels in the labels array described above. For example, label_names[0] == \"airplane\", label_names[1] == \"automobile\", etc."
   ]
  },
  {
   "cell_type": "code",
   "execution_count": 5,
   "metadata": {
    "collapsed": false
   },
   "outputs": [
    {
     "data": {
      "text/plain": [
       "['airplane',\n",
       " 'automobile',\n",
       " 'bird',\n",
       " 'cat',\n",
       " 'deer',\n",
       " 'dog',\n",
       " 'frog',\n",
       " 'horse',\n",
       " 'ship',\n",
       " 'truck']"
      ]
     },
     "execution_count": 5,
     "metadata": {},
     "output_type": "execute_result"
    }
   ],
   "source": [
    "label_map = unpickle(\"cifar-10-batches-py/batches.meta\")\n",
    "label_map = label_map[\"label_names\"]\n",
    "label_map"
   ]
  },
  {
   "cell_type": "code",
   "execution_count": 6,
   "metadata": {
    "collapsed": false
   },
   "outputs": [],
   "source": [
    "label_map = dict(zip(range(0,10), label_map))"
   ]
  },
  {
   "cell_type": "code",
   "execution_count": 7,
   "metadata": {
    "collapsed": false
   },
   "outputs": [
    {
     "data": {
      "text/plain": [
       "'airplane'"
      ]
     },
     "execution_count": 7,
     "metadata": {},
     "output_type": "execute_result"
    }
   ],
   "source": [
    "label_map[0]"
   ]
  },
  {
   "cell_type": "code",
   "execution_count": 8,
   "metadata": {
    "collapsed": false
   },
   "outputs": [],
   "source": [
    "df_label_names = map(lambda(x): label_map[x], df.label)"
   ]
  },
  {
   "cell_type": "code",
   "execution_count": 9,
   "metadata": {
    "collapsed": false
   },
   "outputs": [],
   "source": [
    "df.head()\n",
    "labels = df['label']\n",
    "del df['label']"
   ]
  },
  {
   "cell_type": "code",
   "execution_count": 10,
   "metadata": {
    "collapsed": false
   },
   "outputs": [
    {
     "data": {
      "text/html": [
       "<div>\n",
       "<table border=\"1\" class=\"dataframe\">\n",
       "  <thead>\n",
       "    <tr style=\"text-align: right;\">\n",
       "      <th></th>\n",
       "      <th>0</th>\n",
       "      <th>1</th>\n",
       "      <th>2</th>\n",
       "      <th>3</th>\n",
       "      <th>4</th>\n",
       "      <th>5</th>\n",
       "      <th>6</th>\n",
       "      <th>7</th>\n",
       "      <th>8</th>\n",
       "      <th>9</th>\n",
       "      <th>...</th>\n",
       "      <th>3062</th>\n",
       "      <th>3063</th>\n",
       "      <th>3064</th>\n",
       "      <th>3065</th>\n",
       "      <th>3066</th>\n",
       "      <th>3067</th>\n",
       "      <th>3068</th>\n",
       "      <th>3069</th>\n",
       "      <th>3070</th>\n",
       "      <th>3071</th>\n",
       "    </tr>\n",
       "  </thead>\n",
       "  <tbody>\n",
       "    <tr>\n",
       "      <th>count</th>\n",
       "      <td>1000.000000</td>\n",
       "      <td>1000.000000</td>\n",
       "      <td>1000.000000</td>\n",
       "      <td>1000.00000</td>\n",
       "      <td>1000.00000</td>\n",
       "      <td>1000.000000</td>\n",
       "      <td>1000.000000</td>\n",
       "      <td>1000.000000</td>\n",
       "      <td>1000.000000</td>\n",
       "      <td>1000.000000</td>\n",
       "      <td>...</td>\n",
       "      <td>1000.00000</td>\n",
       "      <td>1000.000000</td>\n",
       "      <td>1000.000000</td>\n",
       "      <td>1000.000000</td>\n",
       "      <td>1000.000000</td>\n",
       "      <td>1000.00000</td>\n",
       "      <td>1000.000000</td>\n",
       "      <td>1000.000000</td>\n",
       "      <td>1000.000000</td>\n",
       "      <td>1000.000000</td>\n",
       "    </tr>\n",
       "    <tr>\n",
       "      <th>mean</th>\n",
       "      <td>133.467000</td>\n",
       "      <td>132.764000</td>\n",
       "      <td>133.703000</td>\n",
       "      <td>134.17100</td>\n",
       "      <td>135.39400</td>\n",
       "      <td>136.677000</td>\n",
       "      <td>136.762000</td>\n",
       "      <td>136.179000</td>\n",
       "      <td>136.104000</td>\n",
       "      <td>136.528000</td>\n",
       "      <td>...</td>\n",
       "      <td>113.16300</td>\n",
       "      <td>113.195000</td>\n",
       "      <td>113.293000</td>\n",
       "      <td>113.769000</td>\n",
       "      <td>113.870000</td>\n",
       "      <td>114.00600</td>\n",
       "      <td>114.771000</td>\n",
       "      <td>114.869000</td>\n",
       "      <td>114.781000</td>\n",
       "      <td>115.330000</td>\n",
       "    </tr>\n",
       "    <tr>\n",
       "      <th>std</th>\n",
       "      <td>72.523076</td>\n",
       "      <td>71.017743</td>\n",
       "      <td>71.069978</td>\n",
       "      <td>70.31519</td>\n",
       "      <td>69.95642</td>\n",
       "      <td>69.987734</td>\n",
       "      <td>70.097325</td>\n",
       "      <td>70.593728</td>\n",
       "      <td>70.644376</td>\n",
       "      <td>70.771405</td>\n",
       "      <td>...</td>\n",
       "      <td>63.91588</td>\n",
       "      <td>63.979359</td>\n",
       "      <td>63.507325</td>\n",
       "      <td>63.657175</td>\n",
       "      <td>63.394921</td>\n",
       "      <td>63.21283</td>\n",
       "      <td>63.526122</td>\n",
       "      <td>64.014652</td>\n",
       "      <td>64.050242</td>\n",
       "      <td>64.946294</td>\n",
       "    </tr>\n",
       "    <tr>\n",
       "      <th>min</th>\n",
       "      <td>0.000000</td>\n",
       "      <td>0.000000</td>\n",
       "      <td>0.000000</td>\n",
       "      <td>0.00000</td>\n",
       "      <td>0.00000</td>\n",
       "      <td>0.000000</td>\n",
       "      <td>0.000000</td>\n",
       "      <td>0.000000</td>\n",
       "      <td>0.000000</td>\n",
       "      <td>0.000000</td>\n",
       "      <td>...</td>\n",
       "      <td>0.00000</td>\n",
       "      <td>0.000000</td>\n",
       "      <td>0.000000</td>\n",
       "      <td>0.000000</td>\n",
       "      <td>0.000000</td>\n",
       "      <td>0.00000</td>\n",
       "      <td>0.000000</td>\n",
       "      <td>0.000000</td>\n",
       "      <td>0.000000</td>\n",
       "      <td>0.000000</td>\n",
       "    </tr>\n",
       "    <tr>\n",
       "      <th>25%</th>\n",
       "      <td>73.750000</td>\n",
       "      <td>74.000000</td>\n",
       "      <td>75.000000</td>\n",
       "      <td>76.00000</td>\n",
       "      <td>81.00000</td>\n",
       "      <td>78.750000</td>\n",
       "      <td>80.750000</td>\n",
       "      <td>80.000000</td>\n",
       "      <td>79.750000</td>\n",
       "      <td>79.000000</td>\n",
       "      <td>...</td>\n",
       "      <td>64.00000</td>\n",
       "      <td>64.000000</td>\n",
       "      <td>64.000000</td>\n",
       "      <td>64.000000</td>\n",
       "      <td>64.000000</td>\n",
       "      <td>65.00000</td>\n",
       "      <td>66.000000</td>\n",
       "      <td>66.000000</td>\n",
       "      <td>68.000000</td>\n",
       "      <td>67.000000</td>\n",
       "    </tr>\n",
       "    <tr>\n",
       "      <th>50%</th>\n",
       "      <td>131.000000</td>\n",
       "      <td>128.000000</td>\n",
       "      <td>131.500000</td>\n",
       "      <td>132.00000</td>\n",
       "      <td>132.00000</td>\n",
       "      <td>136.000000</td>\n",
       "      <td>135.000000</td>\n",
       "      <td>133.500000</td>\n",
       "      <td>135.000000</td>\n",
       "      <td>137.000000</td>\n",
       "      <td>...</td>\n",
       "      <td>105.00000</td>\n",
       "      <td>106.000000</td>\n",
       "      <td>105.000000</td>\n",
       "      <td>106.000000</td>\n",
       "      <td>108.000000</td>\n",
       "      <td>108.00000</td>\n",
       "      <td>108.000000</td>\n",
       "      <td>106.500000</td>\n",
       "      <td>107.000000</td>\n",
       "      <td>107.500000</td>\n",
       "    </tr>\n",
       "    <tr>\n",
       "      <th>75%</th>\n",
       "      <td>191.000000</td>\n",
       "      <td>188.000000</td>\n",
       "      <td>190.000000</td>\n",
       "      <td>188.00000</td>\n",
       "      <td>190.00000</td>\n",
       "      <td>192.000000</td>\n",
       "      <td>193.000000</td>\n",
       "      <td>192.000000</td>\n",
       "      <td>193.250000</td>\n",
       "      <td>194.000000</td>\n",
       "      <td>...</td>\n",
       "      <td>156.00000</td>\n",
       "      <td>155.000000</td>\n",
       "      <td>157.000000</td>\n",
       "      <td>157.000000</td>\n",
       "      <td>156.250000</td>\n",
       "      <td>157.25000</td>\n",
       "      <td>157.000000</td>\n",
       "      <td>160.000000</td>\n",
       "      <td>161.000000</td>\n",
       "      <td>160.000000</td>\n",
       "    </tr>\n",
       "    <tr>\n",
       "      <th>max</th>\n",
       "      <td>255.000000</td>\n",
       "      <td>255.000000</td>\n",
       "      <td>255.000000</td>\n",
       "      <td>255.00000</td>\n",
       "      <td>255.00000</td>\n",
       "      <td>255.000000</td>\n",
       "      <td>255.000000</td>\n",
       "      <td>255.000000</td>\n",
       "      <td>255.000000</td>\n",
       "      <td>255.000000</td>\n",
       "      <td>...</td>\n",
       "      <td>255.00000</td>\n",
       "      <td>255.000000</td>\n",
       "      <td>255.000000</td>\n",
       "      <td>255.000000</td>\n",
       "      <td>255.000000</td>\n",
       "      <td>255.00000</td>\n",
       "      <td>255.000000</td>\n",
       "      <td>255.000000</td>\n",
       "      <td>255.000000</td>\n",
       "      <td>255.000000</td>\n",
       "    </tr>\n",
       "  </tbody>\n",
       "</table>\n",
       "<p>8 rows × 3072 columns</p>\n",
       "</div>"
      ],
      "text/plain": [
       "              0            1            2           3           4     \\\n",
       "count  1000.000000  1000.000000  1000.000000  1000.00000  1000.00000   \n",
       "mean    133.467000   132.764000   133.703000   134.17100   135.39400   \n",
       "std      72.523076    71.017743    71.069978    70.31519    69.95642   \n",
       "min       0.000000     0.000000     0.000000     0.00000     0.00000   \n",
       "25%      73.750000    74.000000    75.000000    76.00000    81.00000   \n",
       "50%     131.000000   128.000000   131.500000   132.00000   132.00000   \n",
       "75%     191.000000   188.000000   190.000000   188.00000   190.00000   \n",
       "max     255.000000   255.000000   255.000000   255.00000   255.00000   \n",
       "\n",
       "              5            6            7            8            9     \\\n",
       "count  1000.000000  1000.000000  1000.000000  1000.000000  1000.000000   \n",
       "mean    136.677000   136.762000   136.179000   136.104000   136.528000   \n",
       "std      69.987734    70.097325    70.593728    70.644376    70.771405   \n",
       "min       0.000000     0.000000     0.000000     0.000000     0.000000   \n",
       "25%      78.750000    80.750000    80.000000    79.750000    79.000000   \n",
       "50%     136.000000   135.000000   133.500000   135.000000   137.000000   \n",
       "75%     192.000000   193.000000   192.000000   193.250000   194.000000   \n",
       "max     255.000000   255.000000   255.000000   255.000000   255.000000   \n",
       "\n",
       "          ...             3062         3063         3064         3065  \\\n",
       "count     ...       1000.00000  1000.000000  1000.000000  1000.000000   \n",
       "mean      ...        113.16300   113.195000   113.293000   113.769000   \n",
       "std       ...         63.91588    63.979359    63.507325    63.657175   \n",
       "min       ...          0.00000     0.000000     0.000000     0.000000   \n",
       "25%       ...         64.00000    64.000000    64.000000    64.000000   \n",
       "50%       ...        105.00000   106.000000   105.000000   106.000000   \n",
       "75%       ...        156.00000   155.000000   157.000000   157.000000   \n",
       "max       ...        255.00000   255.000000   255.000000   255.000000   \n",
       "\n",
       "              3066        3067         3068         3069         3070  \\\n",
       "count  1000.000000  1000.00000  1000.000000  1000.000000  1000.000000   \n",
       "mean    113.870000   114.00600   114.771000   114.869000   114.781000   \n",
       "std      63.394921    63.21283    63.526122    64.014652    64.050242   \n",
       "min       0.000000     0.00000     0.000000     0.000000     0.000000   \n",
       "25%      64.000000    65.00000    66.000000    66.000000    68.000000   \n",
       "50%     108.000000   108.00000   108.000000   106.500000   107.000000   \n",
       "75%     156.250000   157.25000   157.000000   160.000000   161.000000   \n",
       "max     255.000000   255.00000   255.000000   255.000000   255.000000   \n",
       "\n",
       "              3071  \n",
       "count  1000.000000  \n",
       "mean    115.330000  \n",
       "std      64.946294  \n",
       "min       0.000000  \n",
       "25%      67.000000  \n",
       "50%     107.500000  \n",
       "75%     160.000000  \n",
       "max     255.000000  \n",
       "\n",
       "[8 rows x 3072 columns]"
      ]
     },
     "execution_count": 10,
     "metadata": {},
     "output_type": "execute_result"
    }
   ],
   "source": [
    "df[0:1000].describe()"
   ]
  },
  {
   "cell_type": "code",
   "execution_count": null,
   "metadata": {
    "collapsed": false
   },
   "outputs": [],
   "source": [
    "labels.values"
   ]
  },
  {
   "cell_type": "code",
   "execution_count": 11,
   "metadata": {
    "collapsed": true
   },
   "outputs": [],
   "source": [
    "from sklearn.cross_validation import train_test_split"
   ]
  },
  {
   "cell_type": "code",
   "execution_count": 12,
   "metadata": {
    "collapsed": true
   },
   "outputs": [],
   "source": [
    "Xtr, Xte, Ytr, Yte = train_test_split(df[0:1000].values, labels[0:1000].values, test_size=0.20, random_state=1)"
   ]
  },
  {
   "cell_type": "code",
   "execution_count": 13,
   "metadata": {
    "collapsed": true
   },
   "outputs": [],
   "source": [
    "from sklearn.neighbors import KNeighborsClassifier\n",
    "from sklearn.cross_validation import cross_val_score"
   ]
  },
  {
   "cell_type": "code",
   "execution_count": 15,
   "metadata": {
    "collapsed": false
   },
   "outputs": [
    {
     "data": {
      "text/plain": [
       "0.21486661620315384"
      ]
     },
     "execution_count": 15,
     "metadata": {},
     "output_type": "execute_result"
    }
   ],
   "source": [
    "knn = KNeighborsClassifier()\n",
    "cross_val_score(knn, Xtr, Ytr, cv=10).mean()"
   ]
  },
  {
   "cell_type": "code",
   "execution_count": 16,
   "metadata": {
    "collapsed": false
   },
   "outputs": [
    {
     "data": {
      "text/plain": [
       "0.19500000000000001"
      ]
     },
     "execution_count": 16,
     "metadata": {},
     "output_type": "execute_result"
    }
   ],
   "source": [
    "knn.fit(Xtr, Ytr)\n",
    "knn.score(Xte, Yte)"
   ]
  },
  {
   "cell_type": "code",
   "execution_count": null,
   "metadata": {
    "collapsed": true
   },
   "outputs": [],
   "source": []
  }
 ],
 "metadata": {
  "kernelspec": {
   "display_name": "Python 2",
   "language": "python",
   "name": "python2"
  },
  "language_info": {
   "codemirror_mode": {
    "name": "ipython",
    "version": 2
   },
   "file_extension": ".py",
   "mimetype": "text/x-python",
   "name": "python",
   "nbconvert_exporter": "python",
   "pygments_lexer": "ipython2",
   "version": "2.7.11"
  }
 },
 "nbformat": 4,
 "nbformat_minor": 0
}
